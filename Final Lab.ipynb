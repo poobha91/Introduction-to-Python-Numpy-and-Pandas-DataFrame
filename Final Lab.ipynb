{
 "cells": [
  {
   "cell_type": "markdown",
   "metadata": {
    "deletable": false,
    "editable": false,
    "trusted": true
   },
   "source": [
    "# Section 1: Importing and Summarizing Data\n",
    "\n",
    "You can type Python code in the code cells following the instruction cells to solve the exercises. \n",
    "\n",
    "You can also use the IPython Shell interactively. Go to View (on the menubar) and click terminal or press `Ctrl` + ` to open the terminal. Once terminal is open, type py and hit Enter. This will launch interactive python cell. You can write python statements and hit Enter to see the output in the next line in the cell."
   ]
  },
  {
   "cell_type": "markdown",
   "metadata": {},
   "source": [
    "## Exercise 1: Read and explore your data\n",
    "\n",
    "In this lab, you'll explore a dataset containing information on a university's recent graduates for each department stored in `\"recent_grads.csv\"` file. In this exercise, you'll read in this data using Python's `pandas` module.\n",
    "### Instructions\n",
    "\n",
    "- Import `pandas` as `pd`.\n",
    "- Read in the data from `recent_grads_url` (which is a CSV file) and assign it to a variable called `recent_grads`.\n",
    "- Print the shape of `recent_grads`.\n"
   ]
  },
  {
   "cell_type": "code",
   "execution_count": null,
   "metadata": {},
   "outputs": [
    {
     "name": "stdout",
     "output_type": "stream",
     "text": [
      "(173, 20)\n"
     ]
    }
   ],
   "source": [
    "# Import pandas \n",
    "import pandas as pd\n",
    "\n",
    "# Use pandas to read in recent_grads.csv\n",
    "recent_grads = pd.read_csv('recent_grads.csv', index_col=0)\n",
    "\n",
    "# Print the shape\n",
    "print(recent_grads.shape)"
   ]
  },
  {
   "cell_type": "markdown",
   "metadata": {},
   "source": [
    "## Exercise 2: Exploring Your Data\n",
    "\n",
    "Now you'll perform some data exploration using the Python `pandas` module. To get a sense of the data, you'll output statistics such as mean, median, count, and percentiles.\n",
    "\n",
    "The DataFrame `recent_grads` is still in your workspace.\n",
    "### Instructions\n",
    "\n",
    "- Print the `.dtypes` of your data so that you know what each column contains.\n",
    "- Output basic summary statistics using a single `pandas` function.\n",
    "- With the same function from before, summary statistics for all columns that aren't of type `object`.\n",
    "\n"
   ]
  },
  {
   "cell_type": "code",
   "execution_count": null,
   "metadata": {},
   "outputs": [
    {
     "name": "stdout",
     "output_type": "stream",
     "text": [
      "major_code                int64\n",
      "major                    object\n",
      "major_category           object\n",
      "total                     int64\n",
      "sample_size               int64\n",
      "men                       int64\n",
      "women                     int64\n",
      "sharewomen              float64\n",
      "employed                  int64\n",
      "full_time                 int64\n",
      "part_time                 int64\n",
      "full_time_year_round      int64\n",
      "unemployed                int64\n",
      "unemployment_rate       float64\n",
      "median                   object\n",
      "p25th                    object\n",
      "p75th                    object\n",
      "college_jobs              int64\n",
      "non_college_jobs          int64\n",
      "low_wage_jobs             int64\n",
      "dtype: object\n",
      "----------------------------------\n",
      "        major_code          total  sample_size            men          women  \\\n",
      "count   173.000000     173.000000   173.000000     173.000000     173.000000   \n",
      "mean   3879.815029   39167.716763   356.080925   16637.358382   22530.358382   \n",
      "std    1687.753140   63354.613919   618.361022   28063.394844   40966.381219   \n",
      "min    1100.000000     124.000000     2.000000     119.000000       0.000000   \n",
      "25%    2403.000000    4361.000000    39.000000    2110.000000    1784.000000   \n",
      "50%    3608.000000   15058.000000   130.000000    5347.000000    8284.000000   \n",
      "75%    5503.000000   38844.000000   338.000000   14440.000000   22456.000000   \n",
      "max    6403.000000  393735.000000  4212.000000  173809.000000  307087.000000   \n",
      "\n",
      "       sharewomen       employed      full_time      part_time  \\\n",
      "count  173.000000     173.000000     173.000000     173.000000   \n",
      "mean     0.522550   31192.763006   26029.306358    8832.398844   \n",
      "std      0.230572   50675.002241   42869.655092   14648.179473   \n",
      "min      0.000000       0.000000     111.000000       0.000000   \n",
      "25%      0.339671    3608.000000    3154.000000    1030.000000   \n",
      "50%      0.535714   11797.000000   10048.000000    3299.000000   \n",
      "75%      0.702020   31433.000000   25147.000000    9948.000000   \n",
      "max      0.968954  307933.000000  251540.000000  115172.000000   \n",
      "\n",
      "       full_time_year_round    unemployed  unemployment_rate   college_jobs  \\\n",
      "count            173.000000    173.000000         172.000000     173.000000   \n",
      "mean           19694.427746   2416.329480           0.068587   12322.635838   \n",
      "std            33160.941514   4112.803148           0.029967   21299.868863   \n",
      "min              111.000000      0.000000           0.000000       0.000000   \n",
      "25%             2453.000000    304.000000           0.050723    1675.000000   \n",
      "50%             7413.000000    893.000000           0.068272    4390.000000   \n",
      "75%            16891.000000   2393.000000           0.087599   14444.000000   \n",
      "max           199897.000000  28169.000000           0.177226  151643.000000   \n",
      "\n",
      "       non_college_jobs  low_wage_jobs  \n",
      "count        173.000000     173.000000  \n",
      "mean       13284.497110    3859.017341  \n",
      "std        23789.655363    6944.998579  \n",
      "min            0.000000       0.000000  \n",
      "25%         1591.000000     340.000000  \n",
      "50%         4595.000000    1231.000000  \n",
      "75%        11783.000000    3466.000000  \n",
      "max       148395.000000   48207.000000  \n",
      "----------------------------------\n",
      "        major_code          total  sample_size            men          women  \\\n",
      "count   173.000000     173.000000   173.000000     173.000000     173.000000   \n",
      "mean   3879.815029   39167.716763   356.080925   16637.358382   22530.358382   \n",
      "std    1687.753140   63354.613919   618.361022   28063.394844   40966.381219   \n",
      "min    1100.000000     124.000000     2.000000     119.000000       0.000000   \n",
      "25%    2403.000000    4361.000000    39.000000    2110.000000    1784.000000   \n",
      "50%    3608.000000   15058.000000   130.000000    5347.000000    8284.000000   \n",
      "75%    5503.000000   38844.000000   338.000000   14440.000000   22456.000000   \n",
      "max    6403.000000  393735.000000  4212.000000  173809.000000  307087.000000   \n",
      "\n",
      "       sharewomen       employed      full_time      part_time  \\\n",
      "count  173.000000     173.000000     173.000000     173.000000   \n",
      "mean     0.522550   31192.763006   26029.306358    8832.398844   \n",
      "std      0.230572   50675.002241   42869.655092   14648.179473   \n",
      "min      0.000000       0.000000     111.000000       0.000000   \n",
      "25%      0.339671    3608.000000    3154.000000    1030.000000   \n",
      "50%      0.535714   11797.000000   10048.000000    3299.000000   \n",
      "75%      0.702020   31433.000000   25147.000000    9948.000000   \n",
      "max      0.968954  307933.000000  251540.000000  115172.000000   \n",
      "\n",
      "       full_time_year_round    unemployed  unemployment_rate   college_jobs  \\\n",
      "count            173.000000    173.000000         172.000000     173.000000   \n",
      "mean           19694.427746   2416.329480           0.068587   12322.635838   \n",
      "std            33160.941514   4112.803148           0.029967   21299.868863   \n",
      "min              111.000000      0.000000           0.000000       0.000000   \n",
      "25%             2453.000000    304.000000           0.050723    1675.000000   \n",
      "50%             7413.000000    893.000000           0.068272    4390.000000   \n",
      "75%            16891.000000   2393.000000           0.087599   14444.000000   \n",
      "max           199897.000000  28169.000000           0.177226  151643.000000   \n",
      "\n",
      "       non_college_jobs  low_wage_jobs  \n",
      "count        173.000000     173.000000  \n",
      "mean       13284.497110    3859.017341  \n",
      "std        23789.655363    6944.998579  \n",
      "min            0.000000       0.000000  \n",
      "25%         1591.000000     340.000000  \n",
      "50%         4595.000000    1231.000000  \n",
      "75%        11783.000000    3466.000000  \n",
      "max       148395.000000   48207.000000  \n"
     ]
    }
   ],
   "source": [
    "# Print .dtypes\n",
    "print(recent_grads.dtypes)\n",
    "print(\"----------------------------------\")\n",
    "# Output summary statistics\n",
    "print(recent_grads.describe())\n",
    "print(\"----------------------------------\")\n",
    "# Exclude data of type object\n",
    "print(recent_grads.describe(exclude=['object']))"
   ]
  },
  {
   "cell_type": "markdown",
   "metadata": {},
   "source": [
    "## Exercise 3: Replacing Missing Values\n",
    "\n",
    "There are some missing values in the dataset that are coded as a string. You'll update these to a value that Python understands as \"missing.\"\n",
    "\n",
    "The list `columns` contains the names of the columns you'll be working with in this exercise.\n",
    "### Instructions\n",
    "\n",
    "- Look at the `dtypes` of the columns in `columns` to make sure that the data is numeric.\n",
    "- It looks like a string is being used to encode missing values. Use the `.unique()` method to figure out what the string is.\n",
    "- Search for missing values in the median, p25th, and p75th columns.\n",
    "- Replace the found missing values with a `NaN` value, using `numpy`'s `np.nan`."
   ]
  },
  {
   "cell_type": "code",
   "execution_count": null,
   "metadata": {},
   "outputs": [
    {
     "name": "stdout",
     "output_type": "stream",
     "text": [
      "median    object\n",
      "p25th     object\n",
      "p75th     object\n",
      "dtype: object\n",
      "['110000' '75000' '73000' '70000' '65000' 'UN' '62000' '60000' '58000'\n",
      " '57100' '57000' '56000' '54000' '53000' '52000' '51000' '50000' '48000'\n",
      " '47000' '46000' '45000' '44700' '44000' '42000' '41300' '41000' '40100'\n",
      " '40000' '39000' '38400' '38000' '37500' '37400' '37000' '36400' '36200'\n",
      " '36000' '35600' '35000' '34000' '33500' '33400' '33000' '32500' '32400'\n",
      " '32200' '32100' '32000' '31500' '31000' '30500' '30000' '29000' '28000'\n",
      " '27500' '27000' '26000' '25000' '23400' '22000']\n",
      "['110000' '75000' '73000' '70000' '65000' nan '62000' '60000' '58000'\n",
      " '57100' '57000' '56000' '54000' '53000' '52000' '51000' '50000' '48000'\n",
      " '47000' '46000' '45000' '44700' '44000' '42000' '41300' '41000' '40100'\n",
      " '40000' '39000' '38400' '38000' '37500' '37400' '37000' '36400' '36200'\n",
      " '36000' '35600' '35000' '34000' '33500' '33400' '33000' '32500' '32400'\n",
      " '32200' '32100' '32000' '31500' '31000' '30500' '30000' '29000' '28000'\n",
      " '27500' '27000' '26000' '25000' '23400' '22000']\n",
      "median    object\n",
      "p25th     object\n",
      "p75th     object\n",
      "dtype: object\n",
      "median    float64\n",
      "p25th     float64\n",
      "p75th     float64\n",
      "dtype: object\n"
     ]
    }
   ],
   "source": [
    "import numpy as np\n",
    "# Names of the columns we're searching for missing values \n",
    "columns = ['median', 'p25th', 'p75th']\n",
    "\n",
    "# Take a look at the dtypes\n",
    "print(recent_grads[columns].dtypes)\n",
    "\n",
    "# Find how missing values are represented\n",
    "print(recent_grads[\"median\"].unique())\n",
    "\n",
    "# Replace missing values with NaN\n",
    "for column in columns:\n",
    "    recent_grads.loc[recent_grads[column] == \"UN\", column] = np.nan\n",
    "\n",
    "print(recent_grads[\"median\"].unique())\n",
    "print(recent_grads[columns].dtypes)\n",
    "\n",
    "#convert to numeric\n",
    "df = pd.DataFrame(recent_grads, columns=columns)\n",
    "df[columns] = df[columns].astype(float)\n",
    "print(df.dtypes)"
   ]
  },
  {
   "cell_type": "markdown",
   "metadata": {},
   "source": [
    "## Exercise 4: Select a Column\n",
    "\n",
    "Python's `pandas` module allows you to select a specific column from a DataFrame, which is especially useful for when you only need to manipulate one piece of data. In this exercise, you'll select the `sharewomen` column, which shows the percentage of women for a given department.\n",
    "\n",
    "The DataFrame `recent_grads` is still in your workspace.\n",
    "### Instructions\n",
    "\n",
    "- Select the `sharewomen` column from `recent_grads` and assign this to a variable named `sw_col`.\n",
    "- Output the first 5 rows of `sw_col`.\n"
   ]
  },
  {
   "cell_type": "code",
   "execution_count": null,
   "metadata": {},
   "outputs": [
    {
     "name": "stdout",
     "output_type": "stream",
     "text": [
      "rank\n",
      "1    0.120564\n",
      "2    0.101852\n",
      "3    0.153037\n",
      "4    0.107313\n",
      "5    0.341631\n",
      "Name: sharewomen, dtype: float64\n"
     ]
    }
   ],
   "source": [
    "# Select sharewomen column\n",
    "sw_col = recent_grads[\"sharewomen\"]\n",
    "\n",
    "# Output first five rows\n",
    "print(sw_col.head(5))"
   ]
  },
  {
   "cell_type": "markdown",
   "metadata": {},
   "source": [
    "## Exercise 5: Column Maximum Value\n",
    "\n",
    "Now that you've selected the `sharewomen` column, you'll use `numpy` to output its maximum value.\n",
    "\n",
    "The variable `sw_col` you created in the last exercise is still available in your workspace.\n",
    "### Instructions\n",
    "\n",
    "- Import `numpy` as `np`.\n",
    "- Using a `numpy` built-in function, find the maximum value of the `sharewomen` column and assign this value to the variable `max_sw`.\n",
    "- Print the value of `max_sw`\n"
   ]
  },
  {
   "cell_type": "code",
   "execution_count": null,
   "metadata": {},
   "outputs": [
    {
     "name": "stdout",
     "output_type": "stream",
     "text": [
      "0.968953683\n"
     ]
    }
   ],
   "source": [
    "# Import numpy\n",
    "import numpy as np\n",
    "\n",
    "# Use max to output maximum values\n",
    "np_sw_col = np.array(sw_col)\n",
    "max_sw = np_sw_col.max()\n",
    "\n",
    "# Print column max\n",
    "print(max_sw)"
   ]
  },
  {
   "attachments": {},
   "cell_type": "markdown",
   "metadata": {},
   "source": [
    "## Exercise 6: Selecting a Row\n",
    "\n",
    "While you know what the maximum percentage of women in a department is, which department is this? You'll output this information by filtering the dataset with `pandas`.\n",
    "\n",
    "The variables `sw_col` and `max_sw` are still in your workspace.\n",
    "### Instructions\n",
    "\n",
    "- Output the row of data for the department that has the largest percentage of women.\n"
   ]
  },
  {
   "cell_type": "code",
   "execution_count": null,
   "metadata": {},
   "outputs": [],
   "source": [
    "#sw_col = recent_grads['sharewomen']\n",
    "\n",
    "# Find the maximum value of the sharewomen column using numpy\n",
    "max_sw = np.max(sw_col)\n",
    "\n",
    "# Find the index of the row with the maximum sharewomen value\n",
    "max_sw_index = sw_col.argmax()\n",
    "\n",
    "# Select the row with the index of the maximum sharewomen value\n",
    "max_sw_row = recent_grads.loc[max_sw_index]\n",
    "\n",
    "# Print the row of data for the department with the highest percentage of women\n",
    "print(max_sw_row)"
   ]
  },
  {
   "cell_type": "code",
   "execution_count": null,
   "metadata": {},
   "outputs": [
    {
     "name": "stdout",
     "output_type": "stream",
     "text": [
      "      major_code                        major             major_category  \\\n",
      "rank                                                                       \n",
      "163         5502  ANTHROPOLOGY AND ARCHEOLOGY  Humanities & Liberal Arts   \n",
      "\n",
      "      total  sample_size   men  women  sharewomen  employed  full_time  \\\n",
      "rank                                                                     \n",
      "163   38844          247  1167  36422    0.968954     29633      20147   \n",
      "\n",
      "      part_time  full_time_year_round  unemployed  unemployment_rate median  \\\n",
      "rank                                                                          \n",
      "163       14515                 13232        3395           0.102792  28000   \n",
      "\n",
      "      p25th  p75th  college_jobs  non_college_jobs  low_wage_jobs  \n",
      "rank                                                               \n",
      "163   20000  38000          9805             16693           6866  \n"
     ]
    }
   ],
   "source": [
    "# Output the row containing the maximum percentage of women\n",
    "dataframe = pd.DataFrame(recent_grads)\n",
    "print(dataframe[sw_col == max_sw])"
   ]
  },
  {
   "cell_type": "markdown",
   "metadata": {},
   "source": [
    "## Exercise 6: Converting a DataFrame to Numpy Array\n",
    "\n",
    "Since `numpy` is such a powerful Python module, this exercise asks you to convert a `pandas` DataFrame to a `numpy` array to then utilize a statistics metric available through `numpy` in the next exercise.\n",
    "### Instructions\n",
    "\n",
    "- Select the columns `unemployed` and `low_wage_jobs` from `recent_grads`, then convert them to a `numpy` array. Save this as `recent_grads_np`.\n",
    "- Print the type of `recent_grads_np` to see that it is a `numpy` array.\n"
   ]
  },
  {
   "cell_type": "code",
   "execution_count": null,
   "metadata": {},
   "outputs": [
    {
     "name": "stdout",
     "output_type": "stream",
     "text": [
      "<class 'numpy.ndarray'>\n",
      "[[   37   193]\n",
      " [   85    50]\n",
      " [   16     0]\n",
      " [   40     0]\n",
      " [ 1672   972]\n",
      " [  400   244]\n",
      " [  308   259]\n",
      " [   33   220]\n",
      " [ 4650  3253]\n",
      " [ 3895  3170]\n",
      " [ 2275   980]\n",
      " [  794   372]\n",
      " [ 1019   789]\n",
      " [   78    81]\n",
      " [   23   263]\n",
      " [  589   524]\n",
      " [  699   640]\n",
      " [ 2859  3192]\n",
      " [  170   137]\n",
      " [   11   144]\n",
      " [ 6884  5144]\n",
      " [  338   485]\n",
      " [  824   696]\n",
      " [   70    70]\n",
      " [ 1015   708]\n",
      " [ 3270  2899]\n",
      " [ 1042   703]\n",
      " [  504   285]\n",
      " [  597   365]\n",
      " [  670   340]\n",
      " [  308   260]\n",
      " [  163   142]\n",
      " [  286   755]\n",
      " [   49    49]\n",
      " [ 8497  6193]\n",
      " [ 9413  9910]\n",
      " [11452 10653]\n",
      " [ 1165  1284]\n",
      " [  129   480]\n",
      " [  137   124]\n",
      " [12411 10886]\n",
      " [ 2884  4569]\n",
      " [ 2934  1672]\n",
      " [ 1282  1823]\n",
      " [  505  1002]\n",
      " [  639   608]\n",
      " [  401   343]\n",
      " [  385   357]\n",
      " [  107    93]\n",
      " [   99   186]\n",
      " [   74   245]\n",
      " [  407  1270]\n",
      " [    0    25]\n",
      " [  419   263]\n",
      " [  223   135]\n",
      " [   88     0]\n",
      " [ 2271  2499]\n",
      " [14946 27320]\n",
      " [ 4366  4221]\n",
      " [ 2092  3046]\n",
      " [  977  1121]\n",
      " [ 1067  1168]\n",
      " [ 1150  1758]\n",
      " [  649  1362]\n",
      " [  178   839]\n",
      " [  416   386]\n",
      " [  250   406]\n",
      " [   87   201]\n",
      " [  215   573]\n",
      " [  138   302]\n",
      " [  286   272]\n",
      " [  182    94]\n",
      " [   42   269]\n",
      " [    0     0]\n",
      " [ 2769  4288]\n",
      " [   64    81]\n",
      " [21502 32395]\n",
      " [11663 27968]\n",
      " [15022 19803]\n",
      " [ 1799  1905]\n",
      " [  693  1246]\n",
      " [  721   308]\n",
      " [ 2249  3012]\n",
      " [    0    56]\n",
      " [ 1100   352]\n",
      " [  677   959]\n",
      " [ 1315  1906]\n",
      " [  757  1336]\n",
      " [  893  1422]\n",
      " [  789   496]\n",
      " [   36   221]\n",
      " [   33    37]\n",
      " [ 1779  3175]\n",
      " [14602 27440]\n",
      " [11268 18404]\n",
      " [ 8947 14839]\n",
      " [ 4535  8512]\n",
      " [ 2727  5751]\n",
      " [ 3305  7214]\n",
      " [ 1668  3677]\n",
      " [ 1067  1179]\n",
      " [ 1088  2237]\n",
      " [ 1743  1895]\n",
      " [  975  2449]\n",
      " [ 1518  1391]\n",
      " [ 2006  2495]\n",
      " [  962   557]\n",
      " [  842  1405]\n",
      " [  463   902]\n",
      " [  749  1061]\n",
      " [   78   237]\n",
      " [  322   327]\n",
      " [    0     0]\n",
      " [ 7195 11443]\n",
      " [11176 16839]\n",
      " [ 3132  5267]\n",
      " [ 1718  3168]\n",
      " [ 1012  1806]\n",
      " [ 1833  1854]\n",
      " [  216   786]\n",
      " [    0   111]\n",
      " [  529  1159]\n",
      " [  483   459]\n",
      " [13874 28339]\n",
      " [ 8608 13748]\n",
      " [ 4410  6429]\n",
      " [ 2409  4468]\n",
      " [ 2393  9063]\n",
      " [ 1379  2819]\n",
      " [ 1302  2085]\n",
      " [  547   657]\n",
      " [  757  1470]\n",
      " [  437   976]\n",
      " [  833  1385]\n",
      " [ 2183  3816]\n",
      " [ 4267  8051]\n",
      " [ 1206  2767]\n",
      " [14345 26503]\n",
      " [ 7297 11502]\n",
      " [ 5593 16838]\n",
      " [ 4657  9030]\n",
      " [ 3718  5862]\n",
      " [ 1108  1634]\n",
      " [  314  1231]\n",
      " [  266   591]\n",
      " [28169 48207]\n",
      " [ 3918  9286]\n",
      " [ 1920  2042]\n",
      " [ 1128  3426]\n",
      " [ 5486 11880]\n",
      " [ 3355  5248]\n",
      " [ 3329  4344]\n",
      " [  917  2125]\n",
      " [ 1465  2840]\n",
      " [  496   722]\n",
      " [  419  1650]\n",
      " [  326   724]\n",
      " [  372  1141]\n",
      " [ 1617  3304]\n",
      " [ 1368  3586]\n",
      " [  510  3163]\n",
      " [   82    31]\n",
      " [ 3395  6866]\n",
      " [ 1487  5125]\n",
      " [ 1360  2868]\n",
      " [  846  1115]\n",
      " [ 3040 11068]\n",
      " [ 1340  3466]\n",
      " [  304   743]\n",
      " [  148    82]\n",
      " [  368   622]\n",
      " [  214   308]\n",
      " [   87   192]]\n"
     ]
    }
   ],
   "source": [
    "# Convert to numpy array\n",
    "recent_grads_np = np.array(recent_grads[[\"unemployed\", \"low_wage_jobs\"]])\n",
    "\n",
    "# Print the type of recent_grads_np\n",
    "print(type(recent_grads_np))\n",
    "print(recent_grads_np)"
   ]
  },
  {
   "cell_type": "markdown",
   "metadata": {},
   "source": [
    "## Exercise 7: Correlation Coefficient\n",
    "\n",
    "You have some suspicion that there's a relationship between the `low_wage_jobs` and `unemployment_rate` columns, so you decide to use `numpy` to calculate the correlation coefficient.\n",
    "### Instructions\n",
    "\n",
    "- Calculate the correlation matrix of the `numpy` array `recent_grads_np`.\n"
   ]
  },
  {
   "cell_type": "code",
   "execution_count": null,
   "metadata": {},
   "outputs": [
    {
     "name": "stdout",
     "output_type": "stream",
     "text": [
      "[[1.         0.95538815]\n",
      " [0.95538815 1.        ]]\n"
     ]
    }
   ],
   "source": [
    "# Calculate correlation matrix\n",
    "print(np.corrcoef(recent_grads_np[:,0], recent_grads_np[:,1]))"
   ]
  },
  {
   "cell_type": "markdown",
   "metadata": {},
   "source": [
    "# Section 2: Manipulating Data"
   ]
  },
  {
   "cell_type": "markdown",
   "metadata": {},
   "source": [
    "## Exercise 1: Creating Columns I\n",
    "\n",
    "If you look at the dataset, you'll notice that while there's a column which shows the percentage of women in each department, there is no column which shows the percentage of men.\n",
    "### Instructions\n",
    "\n",
    "- Create a new column named `sharemen`, that contains the percentage of men for a given department by dividing the number of men by the total number of students for each department.\n"
   ]
  },
  {
   "cell_type": "code",
   "execution_count": null,
   "metadata": {},
   "outputs": [
    {
     "name": "stdout",
     "output_type": "stream",
     "text": [
      "rank\n",
      "1      0.879436\n",
      "2      0.898148\n",
      "3      0.846963\n",
      "4      0.892687\n",
      "5      0.658369\n",
      "         ...   \n",
      "169    0.362707\n",
      "170    0.182901\n",
      "171    0.200141\n",
      "172    0.201254\n",
      "173    0.122040\n",
      "Name: sharemen, Length: 173, dtype: float64\n"
     ]
    }
   ],
   "source": [
    "# Add sharemen column\n",
    "recent_grads['sharemen'] = recent_grads['men'] / recent_grads['total']\n",
    "\n",
    "print(recent_grads[\"sharemen\"])"
   ]
  },
  {
   "cell_type": "markdown",
   "metadata": {},
   "source": [
    "## Exercise 2: Select Row with Highest Value\n",
    "\n",
    "Remember how you found the row of data with the highest percentage of women? Now you'll find the row that corresponds to the department with the highest rate of men.\n",
    "\n",
    "The module `numpy` has been imported under the alias `np` for you.\n",
    "### Instructions\n",
    "\n",
    "- Using numpy, find the maximum value for the percentage of men and call this variable max_men.\n",
    "- Select the row that has the percentage of men which corresponds to max_men.\n"
   ]
  },
  {
   "cell_type": "code",
   "execution_count": null,
   "metadata": {},
   "outputs": [
    {
     "name": "stdout",
     "output_type": "stream",
     "text": [
      "97.32960199004975\n",
      "      major_code                                       major major_category  \\\n",
      "rank                                                                          \n",
      "121         2301  EDUCATIONAL ADMINISTRATION AND SUPERVISION      Education   \n",
      "\n",
      "      total  sample_size    men  women  sharewomen  employed  full_time  ...  \\\n",
      "rank                                                                     ...   \n",
      "121     804            5  78253  63698    0.448732       703        733  ...   \n",
      "\n",
      "      full_time_year_round  unemployed  unemployment_rate  median  p25th  \\\n",
      "rank                                                                       \n",
      "121                    504           0                0.0   34000  29000   \n",
      "\n",
      "      p75th college_jobs  non_college_jobs  low_wage_jobs   sharemen  \n",
      "rank                                                                  \n",
      "121   35000          346               206            111  97.329602  \n",
      "\n",
      "[1 rows x 21 columns]\n"
     ]
    }
   ],
   "source": [
    "import numpy as np\n",
    "# Find the maximum percentage value of men\n",
    "sharemen_np = np.array([recent_grads[\"sharemen\"]])\n",
    "max_men = sharemen_np.max()\n",
    "print(max_men) \n",
    "\n",
    "# Output the row with the highest percentage of men\n",
    "print(dataframe[recent_grads[\"sharemen\"] == max_men])"
   ]
  },
  {
   "cell_type": "markdown",
   "metadata": {},
   "source": [
    "## Exercise 3: Creating columns II\n",
    "\n",
    "Eventually you want to figure out which departments are most balanced between men and women. To accomplish this, you'll add a new column that reports the difference in percentages between men and women.\n",
    "### Instructions\n",
    "\n",
    "- Add a column named `gender_diff` that reports how much higher the rate of women is than the rate of men.\n"
   ]
  },
  {
   "cell_type": "code",
   "execution_count": null,
   "metadata": {},
   "outputs": [
    {
     "name": "stdout",
     "output_type": "stream",
     "text": [
      "rank\n",
      "1     -0.758871\n",
      "2     -0.796296\n",
      "3     -0.693925\n",
      "4     -0.785374\n",
      "5     -0.316739\n",
      "         ...   \n",
      "169    0.274587\n",
      "170    0.634198\n",
      "171    0.599718\n",
      "172    0.597492\n",
      "173    0.755920\n",
      "Name: gender_diff, Length: 173, dtype: float64\n"
     ]
    }
   ],
   "source": [
    "# Add gender_diff column\n",
    "recent_grads['gender_diff'] = recent_grads['sharewomen'] - recent_grads['sharemen']\n",
    "print(recent_grads['gender_diff'])"
   ]
  },
  {
   "cell_type": "markdown",
   "metadata": {},
   "source": [
    "## Exercise 4: Updating columns\n",
    "\n",
    "Your data for the `gender_diff` column currently consists of negative and positive values, which depend on which group of people (women or men) have a higher percentage. You want to find the five departments with the most balanced gender ratios, but first you decide to make your life easier by replacing the values in the `gender_diff` column with their respective absolute values.\n",
    "### Instructions\n",
    "\n",
    "- Use `numpy` and `pandas` to convert each value in the `gender_diff` column to its absolute value.\n",
    "- Output the five departments with the most balanced gender ratios.\n"
   ]
  },
  {
   "cell_type": "code",
   "execution_count": null,
   "metadata": {},
   "outputs": [
    {
     "name": "stdout",
     "output_type": "stream",
     "text": [
      "      major_code                                   major     major_category  \\\n",
      "rank                                                                          \n",
      "9           2414                  MECHANICAL ENGINEERING        Engineering   \n",
      "75          5003                               CHEMISTRY  Physical Sciences   \n",
      "38          6205                      BUSINESS ECONOMICS           Business   \n",
      "66          2599  MISCELLANEOUS ENGINEERING TECHNOLOGIES        Engineering   \n",
      "79          5506        POLITICAL SCIENCE AND GOVERNMENT     Social Science   \n",
      "\n",
      "       total  sample_size    men  women  sharewomen  employed  full_time  ...  \\\n",
      "rank                                                                      ...   \n",
      "9      91227         1029  12953   2105    0.139793     76442      71298  ...   \n",
      "75     66530          353  32923  33607    0.505141     48535      39509  ...   \n",
      "38     13302          199   3477   1154    0.249190     10914      10048  ...   \n",
      "66      8804          125    124      0    0.000000      7502       7001  ...   \n",
      "79    182621         1387  93880  88741    0.485930    133454     117709  ...   \n",
      "\n",
      "      unemployed  unemployment_rate  median  p25th  p75th college_jobs  \\\n",
      "rank                                                                     \n",
      "9           4650           0.057342   60000  48000  70000        52844   \n",
      "75          2769           0.053972   39000  30000  49900        30382   \n",
      "38          1165           0.096448   46000  33000  58000         1578   \n",
      "66           416           0.052539   40000  30400  56000         2446   \n",
      "79         15022           0.101175   38000  28000  50000        36854   \n",
      "\n",
      "     non_college_jobs  low_wage_jobs  sharemen  gender_diff  \n",
      "rank                                                         \n",
      "9               16384           3253  0.141986     0.002194  \n",
      "75              14718           4288  0.494859     0.010281  \n",
      "38               4612           1284  0.261389     0.012199  \n",
      "66               3896            386  0.014085     0.014085  \n",
      "79              66947          19803  0.514070     0.028140  \n",
      "\n",
      "[5 rows x 22 columns]\n"
     ]
    }
   ],
   "source": [
    "# Make all gender difference values positive\n",
    "recent_grads['gender_diff'] = np.abs(recent_grads['gender_diff'])\n",
    "\n",
    "# Find the 5 rows with lowest gender rate difference\n",
    "print(recent_grads.nsmallest(5, 'gender_diff'))"
   ]
  },
  {
   "cell_type": "markdown",
   "metadata": {},
   "source": [
    "## Exercise 5: Filtering rows\n",
    "\n",
    "Finally you can filter out for departments which fail the benchmark of a difference of more than 0.30. Since all the values are now positive, you can do this with a simple boolean operator.\n",
    "\n",
    "You want to find the rows containing departments that are skewed heavily towards men. Using work you've already done, you'll create a new DataFrame that contains this information.\n",
    "\n",
    "The DataFrame `recent_grads` still has the columns `sharemen` and `gender_diff` that you created in previous exercises.\n",
    "### Instructions\n",
    "\n",
    "- Create `diff_30`, a boolean `Series` that is `True` when the corresponding value of `gender_diff` is greater than `0.30` and `False` otherwise.\n",
    "- Make another boolean Series called `more_men` that's true when the corresponding row in `recent_grads` has more men than women.\n",
    "- Combine your two `Series` to make one that you can use to select rows that have both more men than women and a value of `gender_diff` greater than 0.30. Save the result as `more_men_and_diff_30`.\n",
    "- Use this new boolean `Series` to create the DataFrame `fewer_women` that contains only the rows you're interested in."
   ]
  },
  {
   "cell_type": "code",
   "execution_count": null,
   "metadata": {},
   "outputs": [
    {
     "name": "stdout",
     "output_type": "stream",
     "text": [
      "      major_code                                              major  \\\n",
      "rank                                                                  \n",
      "1           2419                              PETROLEUM ENGINEERING   \n",
      "2           2416                     MINING AND MINERAL ENGINEERING   \n",
      "3           2415                          METALLURGICAL ENGINEERING   \n",
      "4           2417          NAVAL ARCHITECTURE AND MARINE ENGINEERING   \n",
      "5           2405                               CHEMICAL ENGINEERING   \n",
      "6           2418                                NUCLEAR ENGINEERING   \n",
      "8           5001                         ASTRONOMY AND ASTROPHYSICS   \n",
      "11          2407                               COMPUTER ENGINEERING   \n",
      "12          2401                              AEROSPACE ENGINEERING   \n",
      "13          2404                             BIOMEDICAL ENGINEERING   \n",
      "14          5008                                  MATERIALS SCIENCE   \n",
      "15          2409          ENGINEERING MECHANICS PHYSICS AND SCIENCE   \n",
      "16          2402                             BIOLOGICAL ENGINEERING   \n",
      "17          2412           INDUSTRIAL AND MANUFACTURING ENGINEERING   \n",
      "18          2400                                GENERAL ENGINEERING   \n",
      "20          3201                                    COURT REPORTING   \n",
      "22          1104                                       FOOD SCIENCE   \n",
      "24          2413        MATERIALS ENGINEERING AND MATERIALS SCIENCE   \n",
      "25          6212      MANAGEMENT INFORMATION SYSTEMS AND STATISTICS   \n",
      "26          2406                                  CIVIL ENGINEERING   \n",
      "29          2499                          MISCELLANEOUS ENGINEERING   \n",
      "32          2500                           ENGINEERING TECHNOLOGIES   \n",
      "34          2411             GEOLOGICAL AND GEOPHYSICAL ENGINEERING   \n",
      "37          5501                                          ECONOMICS   \n",
      "40          5102  NUCLEAR, INDUSTRIAL RADIOLOGY, AND BIOLOGICAL ...   \n",
      "44          5007                                            PHYSICS   \n",
      "47          3702                    STATISTICS AND DECISION SCIENCE   \n",
      "49          3607                                       PHARMACOLOGY   \n",
      "51          2501              ENGINEERING AND INDUSTRIAL MANAGEMENT   \n",
      "53          4005                   MATHEMATICS AND COMPUTER SCIENCE   \n",
      "54          2101           COMPUTER PROGRAMMING AND DATA PROCESSING   \n",
      "56          2303                          SCHOOL STUDENT COUNSELING   \n",
      "61          6108  PHARMACY PHARMACEUTICAL SCIENCES AND ADMINISTR...   \n",
      "70          6403                              UNITED STATES HISTORY   \n",
      "71          5205           INDUSTRIAL AND ORGANIZATIONAL PSYCHOLOGY   \n",
      "72          1102                             AGRICULTURAL ECONOMICS   \n",
      "73          5000                                  PHYSICAL SCIENCES   \n",
      "74          3801                              MILITARY TECHNOLOGIES   \n",
      "76          5701  ELECTRICAL, MECHANICAL, AND PRECISION TECHNOLO...   \n",
      "80          5504                                          GEOGRAPHY   \n",
      "81          3606                                       MICROBIOLOGY   \n",
      "82          2106    COMPUTER ADMINISTRATION MANAGEMENT AND SECURITY   \n",
      "85          2107         COMPUTER NETWORKING AND TELECOMMUNICATIONS   \n",
      "92          5206                                  SOCIAL PSYCHOLOGY   \n",
      "98          5098              MULTI-DISCIPLINARY OR GENERAL SCIENCE   \n",
      "108         1303                       NATURAL RESOURCES MANAGEMENT   \n",
      "109         3611                                       NEUROSCIENCE   \n",
      "110         4000                    MULTI/INTERDISCIPLINARY STUDIES   \n",
      "111         5002               ATMOSPHERIC SCIENCES AND METEOROLOGY   \n",
      "112         1302                                           FORESTRY   \n",
      "113         1106                                       SOIL SCIENCE   \n",
      "121         2301         EDUCATIONAL ADMINISTRATION AND SUPERVISION   \n",
      "131         2399                            MISCELLANEOUS EDUCATION   \n",
      "132         4007                  INTERDISCIPLINARY SOCIAL SCIENCES   \n",
      "133         3604                                            ECOLOGY   \n",
      "143         5500                            GENERAL SOCIAL SCIENCES   \n",
      "145         2308             SCIENCE AND COMPUTER TEACHER EDUCATION   \n",
      "148         2306             PHYSICAL AND HEALTH EDUCATION TEACHING   \n",
      "161         2201             COSMETOLOGY SERVICES AND CULINARY ARTS   \n",
      "162         1199                          MISCELLANEOUS AGRICULTURE   \n",
      "\n",
      "                           major_category   total  sample_size     men  \\\n",
      "rank                                                                     \n",
      "1                             Engineering    2339           36    2057   \n",
      "2                             Engineering     756            7     679   \n",
      "3                             Engineering     856            3     725   \n",
      "4                             Engineering    1258           16    1123   \n",
      "5                             Engineering   32260          289   21239   \n",
      "6                             Engineering    2573           17    2200   \n",
      "8                       Physical Sciences    1792           10    2110   \n",
      "11                            Engineering   41542          399   33258   \n",
      "12                            Engineering   15058          147   65511   \n",
      "13                            Engineering   14955           79   80320   \n",
      "14                            Engineering    4279           22    2949   \n",
      "15                            Engineering    4321           30    3526   \n",
      "16                            Engineering    8925           55    6062   \n",
      "17                            Engineering   18968          183   12453   \n",
      "18                            Engineering   61152          425   45683   \n",
      "20                    Law & Public Policy    1148           14     877   \n",
      "22        Agriculture & Natural Resources    4361           36   99743   \n",
      "24                            Engineering    2993           22    8181   \n",
      "25                               Business   18713          278   13496   \n",
      "26                            Engineering   53153          565   41081   \n",
      "29                            Engineering    9133          118    7398   \n",
      "32                            Engineering    3600           39   16820   \n",
      "34                            Engineering     720            5    7921   \n",
      "37                         Social Science  139247         1322  115030   \n",
      "40                      Physical Sciences    2116           31    7575   \n",
      "44                      Physical Sciences   32142          142   39956   \n",
      "47                Computers & Mathematics    6251           37   23080   \n",
      "49                 Biology & Life Science    1762            3   94519   \n",
      "51                            Engineering    2906           29    2400   \n",
      "53                Computers & Mathematics     609            7     803   \n",
      "54                Computers & Mathematics    4168           43    3046   \n",
      "56                              Education     818            4    1667   \n",
      "61                                 Health   23551           38   25463   \n",
      "70              Humanities & Liberal Arts    3079           22    8697   \n",
      "71               Psychology & Social Work    3014           24  132238   \n",
      "72        Agriculture & Natural Resources    2439           44   10624   \n",
      "73                      Physical Sciences    1436           10   10285   \n",
      "74    Industrial Arts & Consumer Services     124            4    1756   \n",
      "76    Industrial Arts & Consumer Services    2435           37    1869   \n",
      "80                         Social Science   18480          179  173809   \n",
      "81                 Biology & Life Science   15232           62   78857   \n",
      "82                Computers & Mathematics    8066          103    6607   \n",
      "85                Computers & Mathematics    7613           97    5291   \n",
      "92               Psychology & Social Work    1386            8    6184   \n",
      "98                      Physical Sciences   62052          427   70619   \n",
      "108       Agriculture & Natural Resources   13773          152   27015   \n",
      "109                Biology & Life Science   13663           53   80231   \n",
      "110                     Interdisciplinary   12296          128   10031   \n",
      "111                     Physical Sciences    4043           32   13257   \n",
      "112       Agriculture & Natural Resources    3607           48   32041   \n",
      "113       Agriculture & Natural Resources     685            4    4266   \n",
      "121                             Education     804            5   78253   \n",
      "131                             Education   10150          126   32510   \n",
      "132                        Social Science    9916           95   13487   \n",
      "133                Biology & Life Science    9154           86   15204   \n",
      "143                        Social Science   12920          113   62181   \n",
      "145                             Education    6483           59   22357   \n",
      "148                             Education   28213          259   29909   \n",
      "161   Industrial Arts & Consumer Services   10510          117   18616   \n",
      "162       Agriculture & Natural Resources    1488           24    4754   \n",
      "\n",
      "       women  sharewomen  employed  full_time  ...  unemployed  \\\n",
      "rank                                           ...               \n",
      "1        282    0.120564      1976       1849  ...          37   \n",
      "2         77    0.101852       640        556  ...          85   \n",
      "3        131    0.153037       648        558  ...          16   \n",
      "4        135    0.107313       758       1069  ...          40   \n",
      "5      11021    0.341631     25694      23170  ...        1672   \n",
      "6        373    0.144967      1857       2038  ...         400   \n",
      "8       1667    0.441356      1526       1085  ...          33   \n",
      "11      8284    0.199413     32506      30315  ...        2275   \n",
      "12     16016    0.196450     11391      11106  ...         794   \n",
      "13     10907    0.119559     10047       9017  ...        1019   \n",
      "14      1330    0.310820      3307       2751  ...          78   \n",
      "15       795    0.183985      3608       2999  ...          23   \n",
      "16      2863    0.320784      6170       5455  ...         589   \n",
      "17      6515    0.343473     15604      14879  ...         699   \n",
      "18     15469    0.252960     44931      41235  ...        2859   \n",
      "20       271    0.236063       930        808  ...          11   \n",
      "22     28576    0.222695      3149       2558  ...         338   \n",
      "24      3384    0.292607      2449       1658  ...          70   \n",
      "25      5217    0.278790     16413      15141  ...        1015   \n",
      "26     12072    0.227118     43041      38302  ...        3270   \n",
      "29      1735    0.189970      7428       6811  ...         597   \n",
      "32      1678    0.090713      2799       2257  ...         163   \n",
      "34      3811    0.324838       604        524  ...          49   \n",
      "37     59476    0.340825    104117      96567  ...       11452   \n",
      "40      5727    0.430537      1778       1392  ...         137   \n",
      "44     32441    0.448099     25302      19428  ...        1282   \n",
      "47      9062    0.281936      4247       3190  ...         401   \n",
      "49    104114    0.524153      1144        657  ...         107   \n",
      "51       506    0.174123      2125       1992  ...          74   \n",
      "53     10320    0.927807       559        584  ...           0   \n",
      "54      1122    0.269194      3257       3204  ...         419   \n",
      "56      2164    0.564866       730        595  ...          88   \n",
      "61     20957    0.451465     16620      12537  ...         977   \n",
      "70     14854    0.630716      2787       2103  ...         138   \n",
      "71    102352    0.436302      2343       1644  ...         286   \n",
      "72     15270    0.589712      2174       1819  ...         182   \n",
      "73      7662    0.426924      1146        768  ...          42   \n",
      "74      1323    0.429685         0        111  ...           0   \n",
      "76       566    0.232444      2107       2057  ...          64   \n",
      "80    156118    0.473190     14057      11367  ...        1799   \n",
      "81    126354    0.615727      9685       7453  ...         693   \n",
      "82      1459    0.180883      6509       6289  ...         721   \n",
      "85      2322    0.305005      6144       5495  ...        1100   \n",
      "92     18313    0.747561      1080        828  ...          33   \n",
      "98    143377    0.669999     46138      37850  ...        2727   \n",
      "108    35037    0.564639     11797      10722  ...         842   \n",
      "109    72593    0.475010      9087       8027  ...         463   \n",
      "110     9848    0.495397      9821       8032  ...         749   \n",
      "111     1893    0.124950      3431       2659  ...          78   \n",
      "112    71439    0.690365      3007       2473  ...         322   \n",
      "113    13843    0.764427       613        488  ...           0   \n",
      "121    63698    0.448732       703        733  ...           0   \n",
      "131    82923    0.718365      8691       7264  ...         547   \n",
      "132    35004    0.721866      7444       5843  ...         757   \n",
      "133    28443    0.651660      7585       5603  ...         437   \n",
      "143    62893    0.502846      9602       7700  ...        1108   \n",
      "145    16404    0.423209      5362       4764  ...         266   \n",
      "148    30724    0.506721     23794      19420  ...        1920   \n",
      "161    11591    0.383719      8650       7662  ...         510   \n",
      "162    12223    0.719974      1290       1098  ...          82   \n",
      "\n",
      "      unemployment_rate  median  p25th   p75th college_jobs non_college_jobs  \\\n",
      "rank                                                                           \n",
      "1              0.018381  110000  95000  125000         1534              364   \n",
      "2              0.117241   75000  55000   90000          350              257   \n",
      "3              0.024096   73000  50000  105000          456              176   \n",
      "4              0.050125   70000  43000   80000          529              102   \n",
      "5              0.061098   65000  50000   75000        18314             4440   \n",
      "6              0.177226   65000  50000  102000         1142              657   \n",
      "8              0.021167   62000  31500  109000          972              500   \n",
      "11             0.065409   60000  45000   75000        23694             5721   \n",
      "12             0.065162   60000  42000   70000         8184             2425   \n",
      "13             0.092084   60000  36000   70000         6439             2471   \n",
      "14             0.023043   60000  39000   65000         2626              391   \n",
      "15             0.006334   58000  25000   74000         2439              947   \n",
      "16             0.087143   57100  40000   76000         3603             1595   \n",
      "17             0.042876   57000  37900   67000         8306             3235   \n",
      "18             0.059824   56000  36000   69000        26898            11734   \n",
      "20             0.011690   54000  50000   54000          402              528   \n",
      "22             0.096931   53000  32000   70000         1183             1274   \n",
      "24             0.027789   52000  35000   62000         1911              305   \n",
      "25             0.058240   51000  38000   60000         6342             5741   \n",
      "26             0.070610   50000  40000   60000        28526             9356   \n",
      "29             0.074393   50000  39000   65000         3445             2426   \n",
      "32             0.055030   50000  43000   60000         1017             1269   \n",
      "34             0.075038   50000  42800   57000          501               50   \n",
      "37             0.099092   47000  35000   65000        25582            37057   \n",
      "40             0.071540   46000  38000   53000          162             1475   \n",
      "44             0.048224   45000  30000   68000        18674             4576   \n",
      "47             0.086274   45000  26700   60000         2298             1200   \n",
      "49             0.085532   45000  40000   45000          603              478   \n",
      "51             0.033652   44000  30000   50000          482              844   \n",
      "53             0.000000   42000  30000   78000          452               67   \n",
      "54             0.113983   41300  20000   46000         2024             1033   \n",
      "56             0.107579   41000  41000   43000          509              221   \n",
      "61             0.055521   40000  20000   90000        11573             4493   \n",
      "70             0.047179   40000  30000   42000          801             1591   \n",
      "71             0.108787   40000  32000   53000          559             1224   \n",
      "72             0.077250   40000  27000   54000          535              893   \n",
      "73             0.035354   40000  30000   55000          530              465   \n",
      "74                  NaN   40000  40000   40000            0                0   \n",
      "76             0.029480   38400  22500   45000          221             1659   \n",
      "80             0.113459   38000  30000   50000         5350             6830   \n",
      "81             0.066776   38000  29600   50000         5577             3174   \n",
      "82             0.099723   37500  25000   50000         2354             3244   \n",
      "85             0.151850   36400  27000   49000         2593             2941   \n",
      "92             0.029650   36000  34000   45000          434              593   \n",
      "98             0.055807     NaN    NaN     NaN        17923            22039   \n",
      "108            0.066619   35000  25000   42000         4333             5808   \n",
      "109            0.048482   35000  30000   44000         5605             2301   \n",
      "110            0.070861   35000  25000   44000         5176             3903   \n",
      "111            0.022229   35000  28000   50000         1808             1317   \n",
      "112            0.096726   35000  28600   48000         1096             1692   \n",
      "113            0.000000   35000  18500   44000          355              144   \n",
      "121            0.000000   34000  29000   35000          346              206   \n",
      "131            0.059212   33000  30000   45000         5284             2438   \n",
      "132            0.092306   33000  24000   40000         2630             3906   \n",
      "133            0.054475   33000  23000   42000         2856             4159   \n",
      "143            0.103455   32000  27000   50000         3602             4778   \n",
      "145            0.047264   32000  28000   39000         4214             1106   \n",
      "148            0.074667   31000  24000   40000        12777             9328   \n",
      "161            0.055677   29000  20000   36000          563             7384   \n",
      "162            0.059767   29000  23000   42100          483              626   \n",
      "\n",
      "      low_wage_jobs   sharemen  gender_diff  \n",
      "rank                                         \n",
      "1               193   0.879436     0.758871  \n",
      "2                50   0.898148     0.796296  \n",
      "3                 0   0.846963     0.693925  \n",
      "4                 0   0.892687     0.785374  \n",
      "5               972   0.658369     0.316739  \n",
      "6               244   0.855033     0.710066  \n",
      "8               220   1.177455     0.736100  \n",
      "11              980   0.800587     0.601175  \n",
      "12              372   4.350578     4.154128  \n",
      "13              789   5.370779     5.251220  \n",
      "14               81   0.689180     0.378359  \n",
      "15              263   0.816015     0.632030  \n",
      "16              524   0.679216     0.358431  \n",
      "17              640   0.656527     0.313054  \n",
      "18             3192   0.747040     0.494080  \n",
      "20              144   0.763937     0.527875  \n",
      "22              485  22.871589    22.648894  \n",
      "24               70   2.733378     2.440771  \n",
      "25              708   0.721210     0.442420  \n",
      "26             2899   0.772882     0.545764  \n",
      "29              365   0.810030     0.620059  \n",
      "32              142   4.672222     4.581510  \n",
      "34               49  11.001389    10.676551  \n",
      "37            10653   0.826086     0.485261  \n",
      "40              124   3.579868     3.149331  \n",
      "44             1823   1.243109     0.795010  \n",
      "47              343   3.692209     3.410273  \n",
      "49               93  53.643019    53.118867  \n",
      "51              245   0.825877     0.651755  \n",
      "53               25   1.318555     0.390748  \n",
      "54              263   0.730806     0.461612  \n",
      "56                0   2.037897     1.473032  \n",
      "61             1121   1.081186     0.629721  \n",
      "70              302   2.824618     2.193902  \n",
      "71              272  43.874585    43.438284  \n",
      "72               94   4.355884     3.766172  \n",
      "73              269   7.162256     6.735333  \n",
      "74                0  14.161290    13.731605  \n",
      "76               81   0.767556     0.535113  \n",
      "80             1905   9.405249     8.932059  \n",
      "81             1246   5.177061     4.561334  \n",
      "82              308   0.819117     0.638235  \n",
      "85              352   0.694995     0.389991  \n",
      "92               37   4.461760     3.714200  \n",
      "98             5751   1.138062     0.468063  \n",
      "108            1405   1.961446     1.396807  \n",
      "109             902   5.872136     5.397126  \n",
      "110            1061   0.815794     0.320397  \n",
      "111             237   3.279001     3.154050  \n",
      "112             327   8.883005     8.192640  \n",
      "113               0   6.227737     5.463311  \n",
      "121             111  97.329602    96.880870  \n",
      "131             657   3.202956     2.484591  \n",
      "132            1470   1.360125     0.638259  \n",
      "133             976   1.660913     1.009253  \n",
      "143            1634   4.812771     4.309925  \n",
      "145             591   3.448558     3.025349  \n",
      "148            2042   1.060114     0.553393  \n",
      "161            3163   1.771265     1.387546  \n",
      "162              31   3.194892     2.474918  \n",
      "\n",
      "[60 rows x 22 columns]\n"
     ]
    }
   ],
   "source": [
    "# Rows where gender rate difference is greater than .30 \n",
    "diff_30 = recent_grads[\"gender_diff\"] > .30\n",
    "\n",
    "# Rows with more men\n",
    "more_men = recent_grads[\"sharemen\"] > recent_grads[\"sharewomen\"]\n",
    "\n",
    "# Combine more_men and diff_30\n",
    "more_men_and_diff_30 = np.logical_and(more_men, diff_30)\n",
    "\n",
    "# Find rows with more men and and gender rate difference greater than .30\n",
    "fewer_women = recent_grads[more_men_and_diff_30]\n",
    "print(fewer_women)"
   ]
  },
  {
   "cell_type": "markdown",
   "metadata": {},
   "source": [
    "## Exercise 6: Grouping with Counts\n",
    "\n",
    "There are various department categories but no sense of how many departments there are in each category. You'll use `pandas` to gain insight into this information.\n",
    "\n",
    "In particular, you'll use the `.groupby()` method of `pandas`. This was not introduced to you in the course, but you'll see it very frequently in your data science journey and it's an important method to understand. This set of exercises will extend your `pandas` knowledge by teaching you how to use the `.groupby()` method.\n",
    "\n",
    "Calls to `.groupby()` have the following three components: the column you want to group, the column you want to aggregate, and the statistic you want to aggregate by. For example, in our dataset, if we wanted to see the percentage of women (`'sharewomen'`) per `'major_category'`, we could leverage a `.groupby` like so: `recent_grads.groupby('major_category')['sharewomen'].mean()`. Here, we are grouping by `'major_category'`, and aggregating `'sharewomen'` by the mean. Give it a try in the IPython Shell if you're curious to see the result!\n",
    "### Instructions\n",
    "\n",
    "\n",
    "- Using the `.groupby()` method, group the `recent_grads` DataFrame by `'major_category'` and then count the number of departments per category using `.count()`.\n",
    "\n"
   ]
  },
  {
   "cell_type": "code",
   "execution_count": null,
   "metadata": {},
   "outputs": [
    {
     "name": "stdout",
     "output_type": "stream",
     "text": [
      "major_category\n",
      "Agriculture & Natural Resources        10\n",
      "Arts                                    8\n",
      "Biology & Life Science                 14\n",
      "Business                               13\n",
      "Communications & Journalism             4\n",
      "Computers & Mathematics                11\n",
      "Education                              16\n",
      "Engineering                            29\n",
      "Health                                 12\n",
      "Humanities & Liberal Arts              15\n",
      "Industrial Arts & Consumer Services     7\n",
      "Interdisciplinary                       1\n",
      "Law & Public Policy                     5\n",
      "Physical Sciences                      10\n",
      "Psychology & Social Work                9\n",
      "Social Science                          9\n",
      "Name: major_category, dtype: int64\n"
     ]
    }
   ],
   "source": [
    "# Group by major category and count\n",
    "print(recent_grads.groupby(['major_category']).major_category.count())"
   ]
  },
  {
   "cell_type": "markdown",
   "metadata": {},
   "source": [
    "## Exercise 7: Grouping with Counts, Part 2\n",
    "\n",
    "You want to get a sense of the number of majors with a lot less women, so you'll perform a similar operation as the one from the last exercise.\n",
    "\n",
    "Use the `fewer_women` DataFrame from a previous exercise.\n",
    "### Instructions\n",
    "\n",
    "- Create a DataFrame that groups the departments by major category and shows the number of departments that are skewed in women.\n",
    "\n"
   ]
  },
  {
   "cell_type": "code",
   "execution_count": null,
   "metadata": {},
   "outputs": [
    {
     "name": "stdout",
     "output_type": "stream",
     "text": [
      "major_category\n",
      "Agriculture & Natural Resources         6\n",
      "Biology & Life Science                  4\n",
      "Business                                1\n",
      "Computers & Mathematics                 5\n",
      "Education                               5\n",
      "Engineering                            20\n",
      "Health                                  1\n",
      "Humanities & Liberal Arts               1\n",
      "Industrial Arts & Consumer Services     3\n",
      "Interdisciplinary                       1\n",
      "Law & Public Policy                     1\n",
      "Physical Sciences                       6\n",
      "Psychology & Social Work                2\n",
      "Social Science                          4\n",
      "Name: major_category, dtype: int64\n"
     ]
    }
   ],
   "source": [
    "# Group departments that have less women by category and count\n",
    "print(fewer_women.groupby([\"major_category\"]).major_category.count())"
   ]
  },
  {
   "cell_type": "markdown",
   "metadata": {},
   "source": [
    "## Exercise 8: Grouping One Column with Means\n",
    "\n",
    "Similar to the exercise you just completed, you can group rows to output the means of different groups within a column.\n",
    "\n",
    "The column `gender_diff` is still available in the `recent_grads` DataFrame.\n",
    "### Instructions\n",
    "\n",
    "- Write code that outputs the average gender percentage difference by major category.\n"
   ]
  },
  {
   "cell_type": "code",
   "execution_count": null,
   "metadata": {},
   "outputs": [
    {
     "name": "stdout",
     "output_type": "stream",
     "text": [
      "major_category\n",
      "Agriculture & Natural Resources        4.511111\n",
      "Arts                                   0.308747\n",
      "Biology & Life Science                 4.785277\n",
      "Business                               0.318304\n",
      "Communications & Journalism            0.483868\n",
      "Computers & Mathematics                0.700728\n",
      "Education                              6.869082\n",
      "Engineering                            1.296387\n",
      "Health                                 0.450257\n",
      "Humanities & Liberal Arts              0.540437\n",
      "Industrial Arts & Consumer Services    2.474325\n",
      "Interdisciplinary                      0.320397\n",
      "Law & Public Policy                    0.281993\n",
      "Physical Sciences                      1.556373\n",
      "Psychology & Social Work               5.719239\n",
      "Social Science                         1.695479\n",
      "Name: gender_diff, dtype: float64\n"
     ]
    }
   ],
   "source": [
    "# Report average gender difference by major category\n",
    "print(recent_grads.groupby([\"major_category\"]).gender_diff.mean())"
   ]
  },
  {
   "cell_type": "markdown",
   "metadata": {},
   "source": [
    "## Exercise 9: Grouping Two Columns with Means\n",
    "\n",
    "You can expand the previous operation to include two columns and output the means for each. To accomplish this, modify the code you just wrote.\n",
    "Instructions\n",
    "\n",
    "- Write a query that outputs the mean number of `'low_wage_jobs'` and average `'unemployment_rate'` grouped by `'major_category'`.\n"
   ]
  },
  {
   "cell_type": "code",
   "execution_count": null,
   "metadata": {},
   "outputs": [
    {
     "name": "stdout",
     "output_type": "stream",
     "text": [
      "                                     low_wage_jobs  unemployment_rate\n",
      "major_category                                                       \n",
      "Agriculture & Natural Resources         789.900000           0.056328\n",
      "Arts                                   7514.500000           0.090173\n",
      "Biology & Life Science                 3053.000000           0.060918\n",
      "Business                               9752.923077           0.071064\n",
      "Communications & Journalism           12398.750000           0.075538\n",
      "Computers & Mathematics                1466.909091           0.084256\n",
      "Education                              2554.375000           0.051702\n",
      "Engineering                             864.793103           0.063334\n",
      "Health                                 2605.833333           0.065920\n",
      "Humanities & Liberal Arts              6282.666667           0.081008\n",
      "Industrial Arts & Consumer Services    3798.571429           0.056083\n",
      "Interdisciplinary                      1061.000000           0.070861\n",
      "Law & Public Policy                    4144.000000           0.090805\n",
      "Physical Sciences                      1407.800000           0.046511\n",
      "Psychology & Social Work               6249.555556           0.072065\n",
      "Social Science                         6020.000000           0.095729\n"
     ]
    },
    {
     "name": "stderr",
     "output_type": "stream",
     "text": [
      "C:\\Users\\Poobharathii\\AppData\\Local\\Temp\\ipykernel_9056\\4254180986.py:2: FutureWarning: Indexing with multiple keys (implicitly converted to a tuple of keys) will be deprecated, use a list instead.\n",
      "  dept_stats = recent_grads.groupby(['major_category'])['low_wage_jobs', 'unemployment_rate'].mean()\n"
     ]
    }
   ],
   "source": [
    "# Find average number of low wage jobs and unemployment rate of each major category\n",
    "dept_stats = recent_grads.groupby(['major_category'])['low_wage_jobs', 'unemployment_rate'].mean()\n",
    "print(dept_stats)"
   ]
  },
  {
   "cell_type": "markdown",
   "metadata": {},
   "source": [
    "# Section 3: Visualizing Data"
   ]
  },
  {
   "cell_type": "markdown",
   "metadata": {},
   "source": [
    "## Exercise 1: Plotting Scatterplots\n",
    "\n",
    "Now that you've calculated the correlation coefficient between the `low_wage_jobs` and `unemployment_rate` columns, you want to create a visualization to effectively display this relationship. You'll use `matplotlib` to create a scatterplot of these two columns.\n",
    "\n",
    "The DataFrame `dept_stats` is available in your workspace again, and the columns `low_wage_jobs` and `unemployment_rate` have been extracted into variables of the same name.\n",
    "### Instructions\n",
    "\n",
    "- Import `matplotlib.pyplot` with the alias `plt`.\n",
    "- Create a scatter plot between `unemployment_rate` and `low_wage_jobs` per major category.\n",
    "- Label the x axis with `'Unemployment rate'`.\n",
    "- Label the y axis with `'Low pay jobs'`.\n",
    "\n"
   ]
  },
  {
   "cell_type": "code",
   "execution_count": null,
   "metadata": {},
   "outputs": [
    {
     "data": {
      "image/png": "[encoded data removed]",
      "text/plain": [
       "<Figure size 640x480 with 1 Axes>"
      ]
     },
     "metadata": {},
     "output_type": "display_data"
    }
   ],
   "source": [
    "low_wage_jobs = recent_grads['low_wage_jobs']\n",
    "unemployment_rate = recent_grads['unemployment_rate']\n",
    "\n",
    "# Import matplotlib\n",
    "import matplotlib.pyplot as plt\n",
    "\n",
    "# Create scatter plot\n",
    "plt.plot(unemployment_rate, low_wage_jobs)\n",
    "plt.scatter(unemployment_rate, low_wage_jobs)\n",
    "\n",
    "# Label x axis\n",
    "plt.xlabel(\"Unemployment Rate\")\n",
    "\n",
    "# Label y axis\n",
    "plt.ylabel(\"Low Pay Jobs\")\n",
    "\n",
    "# Display the graph \n",
    "plt.show()"
   ]
  },
  {
   "cell_type": "markdown",
   "metadata": {},
   "source": [
    "# Exercise 2: Modifying Plot Colors\n",
    "\n",
    "The default settings for `matplotlib` may not be what you hope to present to others, so you decide to customize your plot for low wages versus unemployment rate.\n",
    "\n",
    "Use the `pandas` DataFrame `dept_stats` again.\n",
    "### Instructions\n",
    "\n",
    "- Create the scatterplot visualization between the unemployment rate and number of low wage jobs per major category using the `.plot()` method.\n",
    "- Customize this scatterplot so that the points are red triangles by setting the `color` argument to `\"r\"` and the marker argument `^`.\n",
    "- Display the plot you've created!\n",
    "\n"
   ]
  },
  {
   "cell_type": "code",
   "execution_count": null,
   "metadata": {},
   "outputs": [
    {
     "data": {
      "image/png": "[encoded data removed]",
      "text/plain": [
       "<Figure size 640x480 with 1 Axes>"
      ]
     },
     "metadata": {},
     "output_type": "display_data"
    }
   ],
   "source": [
    "# Plot the red and triangle shaped scatter plot  \n",
    "plt.plot(unemployment_rate, low_wage_jobs, color=\"r\")\n",
    "plt.scatter(unemployment_rate, low_wage_jobs, marker=\"^\")\n",
    "\n",
    "# Display the visualization\n",
    "plt.show()"
   ]
  },
  {
   "cell_type": "markdown",
   "metadata": {},
   "source": [
    "## Exercise 3: Plotting Histograms\n",
    "\n",
    "Now that you've taken a look at that scatterplot, you want to go back to the `sharewomen` column that you were working with earlier. Specifically, you want to get an idea of how the values of `sharewomen` are distributed. This means you want to plot a histogram. For your convenience, the `sharewomen` column has been extracted from the recent_grads DataFrame into a variable called `sharewomen`.\n",
    "\n",
    "### Instructions\n",
    "\n",
    "- Use `matplotlib` to create a histogram of `sharewomen`.\n",
    "- Show the plot you created.\n"
   ]
  },
  {
   "cell_type": "code",
   "execution_count": null,
   "metadata": {},
   "outputs": [
    {
     "data": {
      "image/png": "[encoded data removed]",
      "text/plain": [
       "<Figure size 640x480 with 1 Axes>"
      ]
     },
     "metadata": {},
     "output_type": "display_data"
    }
   ],
   "source": [
    "sharewomen = recent_grads['sharewomen']\n",
    "# Plot a histogram of sharewomen\n",
    "plt.hist(sharewomen, color=\"r\", edgecolor=\"gold\")\n",
    "\n",
    "# Show the plot\n",
    "plt.show()"
   ]
  },
  {
   "cell_type": "markdown",
   "metadata": {},
   "source": [
    "## Exercise 4: Plotting with pandas\n",
    "\n",
    "In Python, there are several different ways to create visualizations. In fact, `pandas` has its own visualization capabilities, all of which are built on top of `matplotlib`! For example, you could have created the histogram from the previous exercise using `recent_grads.sharewomen(kind=\"hist\")` instead of `plt.hist(recent_grads.sharewomen)`.\n",
    "\n",
    "Which approach you prefer comes down to personal preference - when working with DataFrames, it is advantageous to use `pandas`' plotting capabilities because the code tends to be less verbose.\n",
    "\n",
    "Here, you will practice creating the plots from the previous exercises using `pandas` instead of `matplotlib`. All `pandas` plots are created using the `.plot()` method on a DataFrame. Inside `.plot()`, you can specify which plot you want to create using the `kind` parameter. For example, `kind= 'hist'` would create a histogram, `kind='scatter'` would create a scatter plot, and so on.\n",
    "### Instructions\n",
    "- Use the `.plot()` method with `kind='scatter'` on the `dept_stats` DataFrame to create a scatter plot with `'unemployment_rate'` on the x-axis and `'low_wage_jobs'` on the y-axis.\n",
    "\n",
    "- Now, create a histogram of the `sharewomen` column of the `recent_grads` DataFrame. "
   ]
  },
  {
   "cell_type": "code",
   "execution_count": null,
   "metadata": {},
   "outputs": [
    {
     "data": {
      "image/png": "[encoded data removed]",
      "text/plain": [
       "<Figure size 640x480 with 1 Axes>"
      ]
     },
     "metadata": {},
     "output_type": "display_data"
    },
    {
     "data": {
      "image/png": "[encoded data removed]",
      "text/plain": [
       "<Figure size 640x480 with 1 Axes>"
      ]
     },
     "metadata": {},
     "output_type": "display_data"
    }
   ],
   "source": [
    "# Import matplotlib and pandas\n",
    "import matplotlib.pyplot as plt\n",
    "import pandas as pd\n",
    "\n",
    "# Create scatter plot\n",
    "dept_stats.plot(kind='scatter', x='unemployment_rate', y='low_wage_jobs')\n",
    "plt.show()\n",
    "\n",
    "# Create histogram\n",
    "recent_grads.sharewomen.plot(kind='hist', color=\"red\", edgecolor=\"gold\")\n",
    "plt.show()"
   ]
  },
  {
   "cell_type": "markdown",
   "metadata": {},
   "source": [
    "## Congratulations\n",
    "\n",
    "You did it! You have successfully completed the exercises. \n",
    "\n",
    "Save your work by pressing `Ctrl + s` and head over to the next video in the course.\n",
    "\n",
    "Don't forget to Turn Off the Lab. Remember - Don't shut down the machine, but click on the x icon on top right to close the lab session."
   ]
  }
 ],
 "metadata": {
  "kernelspec": {
   "display_name": "Python 3",
   "language": "python",
   "name": "python3"
  },
  "language_info": {
   "codemirror_mode": {
    "name": "ipython",
    "version": 3
   },
   "file_extension": ".py",
   "mimetype": "text/x-python",
   "name": "python",
   "nbconvert_exporter": "python",
   "pygments_lexer": "ipython3",
   "version": "3.10.4"
  },
  "orig_nbformat": 2,
  "vscode": {
   "interpreter": {
    "hash": "b7bc22553df2d4c25d6fc64546af57a4a3bc427995b62661a3497c7d4401282d"
   }
  }
 },
 "nbformat": 4,
 "nbformat_minor": 2
}
